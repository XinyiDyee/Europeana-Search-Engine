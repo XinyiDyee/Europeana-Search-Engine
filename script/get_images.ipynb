{
 "cells": [
  {
   "cell_type": "code",
   "execution_count": 2,
   "id": "395465c9",
   "metadata": {},
   "outputs": [],
   "source": [
    "from insert_data import df4Issue\n",
    "import os\n",
    "import json\n",
    "import pandas as pd\n",
    "from urllib.request import urlretrieve"
   ]
  },
  {
   "cell_type": "code",
   "execution_count": 3,
   "id": "6e999e37-d1f3-4b93-9e50-4cc9c5f63ee5",
   "metadata": {},
   "outputs": [],
   "source": [
    "# Obtain image file directory\n",
    "path = \"/Users/DXY/Documents/Project/Europeana/data/img_url_and_text\"\n",
    "label1 = ['10','20','30','40','50','60','70','80','90','100']\n",
    "file_p = []\n",
    "for l in label1:\n",
    "    file_p.append(os.path.join(path, l+'.json'))"
   ]
  },
  {
   "cell_type": "code",
   "execution_count": 4,
   "id": "0ec3aa9d-2def-4ba9-9735-59fcd4c9d842",
   "metadata": {},
   "outputs": [],
   "source": [
    "# image info\n",
    "df_list = []\n",
    "for p in file_p:\n",
    "    with open(p, 'r') as load_f:\n",
    "        load_dict = json.load(load_f)\n",
    "    for k, v in load_dict.items():\n",
    "        df_list.append(df4Issue(k, v))\n",
    "data = pd.concat(df_list)"
   ]
  },
  {
   "cell_type": "code",
   "execution_count": 5,
   "id": "ca8fac3a-8b61-4d8e-bb88-ba04dd908e3f",
   "metadata": {},
   "outputs": [
    {
     "data": {
      "text/plain": [
       "7953"
      ]
     },
     "execution_count": 5,
     "metadata": {},
     "output_type": "execute_result"
    }
   ],
   "source": [
    "data.shape[0]"
   ]
  },
  {
   "cell_type": "code",
   "execution_count": 16,
   "id": "fb6bf115",
   "metadata": {
    "tags": []
   },
   "outputs": [],
   "source": [
    "# image retrival\n",
    "path = '/Users/DXY/Documents/Project/image/'\n",
    "os.makedirs(path, exist_ok=True)\n",
    "for idx in range(7683, 7953):\n",
    "    url = data.iloc[idx]['image_url']\n",
    "    year = data.iloc[idx]['year']\n",
    "    month = data.iloc[idx]['month']\n",
    "    page = data.iloc[idx]['page']\n",
    "    urlretrieve(url, path+'-'.join((year,month,str(page)))+ '.jpg')"
   ]
  },
  {
   "cell_type": "code",
   "execution_count": 17,
   "id": "7fb39ccf-c380-494a-b650-f6d6c46d272e",
   "metadata": {},
   "outputs": [
    {
     "data": {
      "text/plain": [
       "title         La clef du cabinet des princes de l'Europe - 1...\n",
       "year                                                       1719\n",
       "month                                                        09\n",
       "page                                                         49\n",
       "identifier         /9200396/BibliographicResource_3000118435110\n",
       "image_url     https://iiif.europeana.eu/image/7IHF67RU4SYII3...\n",
       "text          jL.1 Clef du Cabinet Vôtre perforne, Monfieur,...\n",
       "Name: 49, dtype: object"
      ]
     },
     "execution_count": 17,
     "metadata": {},
     "output_type": "execute_result"
    }
   ],
   "source": [
    "data.iloc[7682]"
   ]
  },
  {
   "cell_type": "code",
   "execution_count": 18,
   "id": "580a4e50-0d6e-40f0-9aaa-5a5c681e9e68",
   "metadata": {},
   "outputs": [
    {
     "data": {
      "text/plain": [
       "title         La clef du cabinet des princes de l'Europe - 1...\n",
       "year                                                       1724\n",
       "month                                                        03\n",
       "page                                                         58\n",
       "identifier         /9200396/BibliographicResource_3000118435018\n",
       "image_url     https://iiif.europeana.eu/image/RNLG7PNQSJDOJR...\n",
       "text          des f rinces ^c. Mars 1714. 10$ Uns à cet Evêc...\n",
       "Name: 58, dtype: object"
      ]
     },
     "execution_count": 18,
     "metadata": {},
     "output_type": "execute_result"
    }
   ],
   "source": [
    "data.iloc[378]"
   ]
  },
  {
   "cell_type": "code",
   "execution_count": 19,
   "id": "03d41393-55a0-47fc-b562-02e73af2e23a",
   "metadata": {},
   "outputs": [
    {
     "data": {
      "text/plain": [
       "title         La clef du cabinet des princes de l'Europe - 1...\n",
       "year                                                       1719\n",
       "month                                                        09\n",
       "page                                                         31\n",
       "identifier         /9200396/BibliographicResource_3000118435110\n",
       "image_url     https://iiif.europeana.eu/image/7IHF67RU4SYII3...\n",
       "text          290 £d Chf die C ah inet après en avoir tué di...\n",
       "Name: 31, dtype: object"
      ]
     },
     "execution_count": 19,
     "metadata": {},
     "output_type": "execute_result"
    }
   ],
   "source": [
    "data.iloc[7664]"
   ]
  },
  {
   "cell_type": "code",
   "execution_count": 50,
   "id": "18fd1fd6-72ae-427b-acc7-5d895ba72ba1",
   "metadata": {
    "tags": []
   },
   "outputs": [
    {
     "data": {
      "text/plain": [
       "\"https://iiif.europeana.eu/image/RNLG7PNQSJDOJRJU3EE3K227W2KMSJZXEQ5FAFXCCNVI5XVVNZFQ/presentation_images/1270a600-0215-11e6-a696-fa163e2dd531/node-3/image/BNL/La_clef_du_cabinet_des_princes_de_l'Europe/1724/03/01/00205/full/full/0/default.jpg\""
      ]
     },
     "execution_count": 50,
     "metadata": {},
     "output_type": "execute_result"
    }
   ],
   "source": [
    "# idx 378 url"
   ]
  },
  {
   "cell_type": "code",
   "execution_count": 56,
   "id": "05ff5509-5758-480f-b2f8-8cf6fa6b1ff7",
   "metadata": {},
   "outputs": [
    {
     "data": {
      "text/plain": [
       "7664"
      ]
     },
     "execution_count": 56,
     "metadata": {},
     "output_type": "execute_result"
    }
   ],
   "source": [
    "idx"
   ]
  },
  {
   "cell_type": "code",
   "execution_count": 57,
   "id": "c3ea711b-f0d3-4895-9beb-7a88796a7d7b",
   "metadata": {},
   "outputs": [
    {
     "data": {
      "text/plain": [
       "\"https://iiif.europeana.eu/image/7IHF67RU4SYII3TBZWF2UCF3NQQK3TFH6UCVAKOJG2SHH6DEJCQA/presentation_images/e93eac30-021b-11e6-a696-fa163e2dd531/node-3/image/BNL/La_clef_du_cabinet_des_princes_de_l'Europe/1719/09/01/00290/full/full/0/default.jpg\""
      ]
     },
     "execution_count": 57,
     "metadata": {},
     "output_type": "execute_result"
    }
   ],
   "source": [
    "url"
   ]
  },
  {
   "cell_type": "code",
   "execution_count": null,
   "id": "ae1ff360-8fa0-4fb7-9823-4f7e7e614ad1",
   "metadata": {},
   "outputs": [],
   "source": []
  }
 ],
 "metadata": {
  "kernelspec": {
   "display_name": "Python 3",
   "language": "python",
   "name": "python3"
  },
  "language_info": {
   "codemirror_mode": {
    "name": "ipython",
    "version": 3
   },
   "file_extension": ".py",
   "mimetype": "text/x-python",
   "name": "python",
   "nbconvert_exporter": "python",
   "pygments_lexer": "ipython3",
   "version": "3.8.8"
  }
 },
 "nbformat": 4,
 "nbformat_minor": 5
}
