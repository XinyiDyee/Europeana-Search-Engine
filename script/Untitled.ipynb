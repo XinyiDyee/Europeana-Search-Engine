{
 "cells": [
  {
   "cell_type": "code",
   "execution_count": 28,
   "id": "bb18186a-9b32-417c-80ae-8b44e706f1f4",
   "metadata": {},
   "outputs": [],
   "source": [
    "import os\n",
    "import sys\n",
    "import pandas as pd\n",
    "from collections import Counter"
   ]
  },
  {
   "cell_type": "code",
   "execution_count": 11,
   "id": "33c7c8f5-2d34-4310-af19-184ac7836f58",
   "metadata": {},
   "outputs": [],
   "source": [
    "def process_bar(num, total):\n",
    "    rate = float(num)/total\n",
    "    ratenum = int(100*rate)\n",
    "    r = '\\r[{}{}]{}%'.format('*'*ratenum,' '*(100-ratenum), ratenum)\n",
    "    sys.stdout.write(r)\n",
    "    sys.stdout.flush()"
   ]
  },
  {
   "cell_type": "code",
   "execution_count": 22,
   "id": "5c4a7632-5593-4ca5-a5d2-ffca58b5f9f7",
   "metadata": {},
   "outputs": [],
   "source": [
    "def get_n_gram(path):\n",
    "    g = os.walk(path)\n",
    "    year = []\n",
    "    month = []\n",
    "    page = []\n",
    "    words = []\n",
    "    x = 0\n",
    "    for path, dir_list, file_list in g:\n",
    "        n = len(file_list)\n",
    "        for file_name in file_list:\n",
    "            f = file_name.split('.')[0]\n",
    "            ymp = f.split('-')\n",
    "            if ymp[0] == '':\n",
    "                continue\n",
    "            year.append(int(ymp[0]))\n",
    "            month.append(int(ymp[1]))\n",
    "            page.append(int(ymp[2]))\n",
    "\n",
    "            with open(os.path.join(path, file_name)) as f:\n",
    "                text_fr = f.read()\n",
    "            words.append(dict(Counter(text_fr.split())))\n",
    "\n",
    "            x += 1\n",
    "            process_bar(x+1, n)\n",
    "\n",
    "    return words, year, month, page"
   ]
  },
  {
   "cell_type": "code",
   "execution_count": 30,
   "id": "078f7a72-6000-4cc6-b657-4255784772e1",
   "metadata": {},
   "outputs": [],
   "source": [
    "def table4Ngram(words_freq, year, month, page):\n",
    "    lenth_n_gram = len(words_freq)\n",
    "    lst_n_gram = list()\n",
    "    x = 0\n",
    "    for i in range(lenth_n_gram):\n",
    "        for k,v in words_freq[i].items():\n",
    "            lst_n_gram.append([k,  # words\n",
    "                               year[i],\n",
    "                               month[i],\n",
    "                               page[i],\n",
    "                               v])  # frequency\n",
    "        x += 1\n",
    "        process_bar(x + 1, lenth_n_gram)\n",
    "\n",
    "    df = pd.DataFrame(lst_n_gram)\n",
    "    df.columns = ['word', 'year', 'month', 'page', 'frequency']\n",
    "\n",
    "    return df"
   ]
  },
  {
   "cell_type": "code",
   "execution_count": 24,
   "id": "d4df5942-1326-46ea-a944-bb7738c161a3",
   "metadata": {},
   "outputs": [
    {
     "name": "stdout",
     "output_type": "stream",
     "text": [
      "[****************************************************************************************************]100%"
     ]
    }
   ],
   "source": [
    "words, year, month, page = get_n_gram('/Users/DXY/Documents/Project/modified_text')"
   ]
  },
  {
   "cell_type": "code",
   "execution_count": 31,
   "id": "98f483bd-3a23-418a-a528-83e10d936cb1",
   "metadata": {},
   "outputs": [
    {
     "name": "stdout",
     "output_type": "stream",
     "text": [
      "[****************************************************************************************************]100%"
     ]
    }
   ],
   "source": [
    "df = table4Ngram(words, year, month, page)"
   ]
  },
  {
   "cell_type": "code",
   "execution_count": 32,
   "id": "421e6e11-98b4-4118-8208-091177c067ec",
   "metadata": {},
   "outputs": [
    {
     "data": {
      "text/html": [
       "<div>\n",
       "<style scoped>\n",
       "    .dataframe tbody tr th:only-of-type {\n",
       "        vertical-align: middle;\n",
       "    }\n",
       "\n",
       "    .dataframe tbody tr th {\n",
       "        vertical-align: top;\n",
       "    }\n",
       "\n",
       "    .dataframe thead th {\n",
       "        text-align: right;\n",
       "    }\n",
       "</style>\n",
       "<table border=\"1\" class=\"dataframe\">\n",
       "  <thead>\n",
       "    <tr style=\"text-align: right;\">\n",
       "      <th></th>\n",
       "      <th>word</th>\n",
       "      <th>year</th>\n",
       "      <th>month</th>\n",
       "      <th>page</th>\n",
       "      <th>frequency</th>\n",
       "    </tr>\n",
       "  </thead>\n",
       "  <tbody>\n",
       "    <tr>\n",
       "      <th>0</th>\n",
       "      <td>PRIVILÉGIÉ</td>\n",
       "      <td>1717</td>\n",
       "      <td>8</td>\n",
       "      <td>74</td>\n",
       "      <td>1</td>\n",
       "    </tr>\n",
       "    <tr>\n",
       "      <th>1</th>\n",
       "      <td>Sera-Cœnure</td>\n",
       "      <td>1717</td>\n",
       "      <td>8</td>\n",
       "      <td>74</td>\n",
       "      <td>1</td>\n",
       "    </tr>\n",
       "    <tr>\n",
       "      <th>2</th>\n",
       "      <td>A-b</td>\n",
       "      <td>1717</td>\n",
       "      <td>8</td>\n",
       "      <td>74</td>\n",
       "      <td>1</td>\n",
       "    </tr>\n",
       "    <tr>\n",
       "      <th>3</th>\n",
       "      <td>J,</td>\n",
       "      <td>1717</td>\n",
       "      <td>8</td>\n",
       "      <td>74</td>\n",
       "      <td>1</td>\n",
       "    </tr>\n",
       "    <tr>\n",
       "      <th>4</th>\n",
       "      <td>I</td>\n",
       "      <td>1717</td>\n",
       "      <td>8</td>\n",
       "      <td>74</td>\n",
       "      <td>1</td>\n",
       "    </tr>\n",
       "    <tr>\n",
       "      <th>...</th>\n",
       "      <td>...</td>\n",
       "      <td>...</td>\n",
       "      <td>...</td>\n",
       "      <td>...</td>\n",
       "      <td>...</td>\n",
       "    </tr>\n",
       "    <tr>\n",
       "      <th>1468860</th>\n",
       "      <td>partir</td>\n",
       "      <td>1748</td>\n",
       "      <td>2</td>\n",
       "      <td>75</td>\n",
       "      <td>1</td>\n",
       "    </tr>\n",
       "    <tr>\n",
       "      <th>1468861</th>\n",
       "      <td>système</td>\n",
       "      <td>1748</td>\n",
       "      <td>2</td>\n",
       "      <td>75</td>\n",
       "      <td>1</td>\n",
       "    </tr>\n",
       "    <tr>\n",
       "      <th>1468862</th>\n",
       "      <td>s'était</td>\n",
       "      <td>1748</td>\n",
       "      <td>2</td>\n",
       "      <td>75</td>\n",
       "      <td>1</td>\n",
       "    </tr>\n",
       "    <tr>\n",
       "      <th>1468863</th>\n",
       "      <td>proposés</td>\n",
       "      <td>1748</td>\n",
       "      <td>2</td>\n",
       "      <td>75</td>\n",
       "      <td>1</td>\n",
       "    </tr>\n",
       "    <tr>\n",
       "      <th>1468864</th>\n",
       "      <td>suivre</td>\n",
       "      <td>1748</td>\n",
       "      <td>2</td>\n",
       "      <td>75</td>\n",
       "      <td>1</td>\n",
       "    </tr>\n",
       "  </tbody>\n",
       "</table>\n",
       "<p>1468865 rows × 5 columns</p>\n",
       "</div>"
      ],
      "text/plain": [
       "                word  year  month  page  frequency\n",
       "0         PRIVILÉGIÉ  1717      8    74          1\n",
       "1        Sera-Cœnure  1717      8    74          1\n",
       "2                A-b  1717      8    74          1\n",
       "3                 J,  1717      8    74          1\n",
       "4                  I  1717      8    74          1\n",
       "...              ...   ...    ...   ...        ...\n",
       "1468860       partir  1748      2    75          1\n",
       "1468861      système  1748      2    75          1\n",
       "1468862      s'était  1748      2    75          1\n",
       "1468863     proposés  1748      2    75          1\n",
       "1468864       suivre  1748      2    75          1\n",
       "\n",
       "[1468865 rows x 5 columns]"
      ]
     },
     "execution_count": 32,
     "metadata": {},
     "output_type": "execute_result"
    }
   ],
   "source": [
    "df"
   ]
  },
  {
   "cell_type": "code",
   "execution_count": null,
   "id": "19bc2874-64bd-4921-b7f4-11b630550332",
   "metadata": {},
   "outputs": [],
   "source": []
  }
 ],
 "metadata": {
  "kernelspec": {
   "display_name": "Python 3",
   "language": "python",
   "name": "python3"
  },
  "language_info": {
   "codemirror_mode": {
    "name": "ipython",
    "version": 3
   },
   "file_extension": ".py",
   "mimetype": "text/x-python",
   "name": "python",
   "nbconvert_exporter": "python",
   "pygments_lexer": "ipython3",
   "version": "3.8.8"
  }
 },
 "nbformat": 4,
 "nbformat_minor": 5
}
