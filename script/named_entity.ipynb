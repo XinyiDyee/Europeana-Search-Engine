{
 "cells": [
  {
   "cell_type": "code",
   "execution_count": 1,
   "id": "c4c1d13c-6460-4254-a936-8b424e4586d9",
   "metadata": {},
   "outputs": [],
   "source": [
    "import os\n",
    "import sys\n",
    "import ast\n",
    "import json\n",
    "import spacy\n",
    "import pandas as pd\n",
    "from collections import Counter"
   ]
  },
  {
   "cell_type": "code",
   "execution_count": 2,
   "id": "faea746d-39e6-4af1-853f-1543b885a44f",
   "metadata": {},
   "outputs": [],
   "source": [
    "def process_bar(num, total):\n",
    "    rate = float(num)/total\n",
    "    ratenum = int(100*rate)\n",
    "    r = '\\r[{}{}]{}%'.format('*'*ratenum,' '*(100-ratenum), ratenum)\n",
    "    sys.stdout.write(r)\n",
    "    sys.stdout.flush()"
   ]
  },
  {
   "cell_type": "code",
   "execution_count": 3,
   "id": "9b5b9d14-86ce-41b7-adaa-a015df80f446",
   "metadata": {},
   "outputs": [],
   "source": [
    "def named_entity_info_freq(text_fr):\n",
    "    nlp_model_fr = spacy.load(\"fr_core_news_lg\")\n",
    "    nlp_model_fr.add_pipe(\"entityfishing\", config={\"language\": \"fr\"})\n",
    "    doc_fr = nlp_model_fr(text_fr)\n",
    "\n",
    "    ents = []\n",
    "    ents_info = {}\n",
    "    for ent in doc_fr.ents:\n",
    "        ents.append(ent.text)\n",
    "        ents_info[ent.text] = {'label': ent.label_,\n",
    "                               'kb_qid': ent._.kb_qid,\n",
    "                               'url_wikidata': ent._.url_wikidata}\n",
    "\n",
    "    return ents_info, ents"
   ]
  },
  {
   "cell_type": "code",
   "execution_count": 30,
   "id": "4da6dc84-0af2-4625-a8fa-d7a13fe14500",
   "metadata": {},
   "outputs": [],
   "source": [
    "def get_info_freq(path, file_list):\n",
    "    year = []\n",
    "    month = []\n",
    "    page = []\n",
    "    ents_info = []\n",
    "    ents_freq = []\n",
    "    x = 0\n",
    "    n = len(file_list) \n",
    "    for file_name in file_list:\n",
    "        f = file_name.split('.')[0]\n",
    "        ymp = f.split('-')\n",
    "        if ymp[0] == '':\n",
    "            continue\n",
    "        year.append(int(ymp[0]))\n",
    "        month.append(int(ymp[1]))\n",
    "        page.append(int(ymp[2]))\n",
    "\n",
    "        with open(os.path.join(path, file_name)+'.txt') as f:\n",
    "            text_fr = f.read()\n",
    "        info, ents = named_entity_info_freq(text_fr)\n",
    "        ents_info.append(info)\n",
    "        freq = dict(Counter(ents))\n",
    "        ents_freq.append(freq)\n",
    "\n",
    "        x += 1\n",
    "        process_bar(x+1, n)\n",
    "\n",
    "        data = {'ents_info': info, 'ents_freq': freq, 'year': ymp[0], 'month': ymp[1], 'page': ymp[2]}\n",
    "        json_data = json.dumps(data)\n",
    "        f2 = open('/Users/DXY/Documents/Project/entity_json/'+ str(ymp[0]) + '-' + str(ymp[1]) + '-' + str(ymp[2]) + '.json', 'w')\n",
    "        f2.write(json_data)\n",
    "        f2.close()\n",
    "            \n",
    "    return ents_info, ents_freq, year, month, page"
   ]
  },
  {
   "cell_type": "code",
   "execution_count": 20,
   "id": "81b4df62-10eb-420e-a95f-7d422cee3a1d",
   "metadata": {},
   "outputs": [],
   "source": [
    "path1 = '/Users/DXY/Documents/Project/modified_text'\n",
    "g1 = os.walk(path1)\n",
    "file_name_list1 = []\n",
    "for path, dir_list, file_list in g1:\n",
    "    for file_name in file_list:\n",
    "        file_name_list1.append(file_name.split('.')[0])"
   ]
  },
  {
   "cell_type": "code",
   "execution_count": 21,
   "id": "2119753e-2a47-4604-8b58-a0e81800637b",
   "metadata": {},
   "outputs": [
    {
     "data": {
      "text/plain": [
       "7950"
      ]
     },
     "execution_count": 21,
     "metadata": {},
     "output_type": "execute_result"
    }
   ],
   "source": [
    "len(file_name_list1)"
   ]
  },
  {
   "cell_type": "code",
   "execution_count": 23,
   "id": "aa28928f-175d-4298-b78b-ba6945db49c8",
   "metadata": {},
   "outputs": [],
   "source": [
    "path2 = '/Users/DXY/Documents/Project/entity_json/'\n",
    "g1 = os.walk(path2)\n",
    "file_name_list2 = []\n",
    "for path, dir_list, file_list in g1:\n",
    "    for file_name in file_list:\n",
    "        file_name_list2.append(file_name.split('.')[0])"
   ]
  },
  {
   "cell_type": "code",
   "execution_count": 26,
   "id": "94c6ef80-4a28-4d2b-b6d9-f2268f1aeda5",
   "metadata": {},
   "outputs": [
    {
     "data": {
      "text/plain": [
       "6054"
      ]
     },
     "execution_count": 26,
     "metadata": {},
     "output_type": "execute_result"
    }
   ],
   "source": [
    "len(file_name_list2)"
   ]
  },
  {
   "cell_type": "code",
   "execution_count": 27,
   "id": "c5719387-23be-4d4f-8f0a-ffa09b4f302a",
   "metadata": {},
   "outputs": [],
   "source": [
    "list_run = [ fn for fn in file_name_list1 if fn not in file_name_list2 ] # b中有而a中没有的"
   ]
  },
  {
   "cell_type": "code",
   "execution_count": 28,
   "id": "a36cd916-658b-4581-8cba-9af29584997d",
   "metadata": {},
   "outputs": [
    {
     "data": {
      "text/plain": [
       "1896"
      ]
     },
     "execution_count": 28,
     "metadata": {},
     "output_type": "execute_result"
    }
   ],
   "source": [
    "len(list_run)"
   ]
  },
  {
   "cell_type": "code",
   "execution_count": 31,
   "id": "7f246abb-9123-4de9-9b58-d69522b6a922",
   "metadata": {},
   "outputs": [
    {
     "name": "stdout",
     "output_type": "stream",
     "text": [
      "[****************************************************************************************************]100%"
     ]
    }
   ],
   "source": [
    "ents_info, ents_freq, year, month, page = get_info_freq(path1, list_run)"
   ]
  },
  {
   "cell_type": "code",
   "execution_count": null,
   "id": "070319ff-7a52-4b7f-b313-b1501fffa1bc",
   "metadata": {},
   "outputs": [],
   "source": []
  }
 ],
 "metadata": {
  "kernelspec": {
   "display_name": "Python 3",
   "language": "python",
   "name": "python3"
  },
  "language_info": {
   "codemirror_mode": {
    "name": "ipython",
    "version": 3
   },
   "file_extension": ".py",
   "mimetype": "text/x-python",
   "name": "python",
   "nbconvert_exporter": "python",
   "pygments_lexer": "ipython3",
   "version": "3.8.8"
  }
 },
 "nbformat": 4,
 "nbformat_minor": 5
}
